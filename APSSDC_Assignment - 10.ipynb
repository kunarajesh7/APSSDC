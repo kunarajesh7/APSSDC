{
 "cells": [
  {
   "cell_type": "markdown",
   "metadata": {},
   "source": [
    "# Problem-1\n",
    "- write a program for getting the last five line from the file."
   ]
  },
  {
   "cell_type": "code",
   "execution_count": 1,
   "metadata": {},
   "outputs": [
    {
     "name": "stdout",
     "output_type": "stream",
     "text": [
      "Task 1 \n",
      "Task 2  \n",
      "Task 3  \n",
      "Task 4  \n",
      "Task 5  \n",
      "Task 6  \n",
      "Task 7  \n",
      "Task 8  \n",
      "\n"
     ]
    }
   ],
   "source": [
    "#creating the file using wirte method\n",
    "#adding lines to the file\n",
    "f = open(\"T10file.txt\",'w')\n",
    "f.write(\"Task 1 \\n\")\n",
    "f.write(\"Task 2  \\n\")\n",
    "f.write(\"Task 3  \\n\")\n",
    "f.write(\"Task 4  \\n\")\n",
    "f.write(\"Task 5  \\n\")\n",
    "f.write(\"Task 6  \\n\")\n",
    "f.write(\"Task 7  \\n\")\n",
    "f.write(\"Task 8  \\n\")\n",
    "\n",
    "#read the file\n",
    "f = open('T10file.txt')\n",
    "print(f.read())\n",
    "f.close()"
   ]
  },
  {
   "cell_type": "code",
   "execution_count": 2,
   "metadata": {},
   "outputs": [
    {
     "name": "stdout",
     "output_type": "stream",
     "text": [
      "['Task 4  \\n', 'Task 5  \\n', 'Task 6  \\n', 'Task 7  \\n', 'Task 8  \\n']\n"
     ]
    }
   ],
   "source": [
    "#printing the last five line from the file\n",
    "f = open(\"T10file.txt\", \"r\")\n",
    "l = f.readlines()\n",
    "l_l = l[-5:]\n",
    "\n",
    "print(l_l)\n",
    "f.close()"
   ]
  },
  {
   "cell_type": "markdown",
   "metadata": {},
   "source": [
    "# Problem-2\n",
    "- Create a function for appending the data into the file."
   ]
  },
  {
   "cell_type": "code",
   "execution_count": 3,
   "metadata": {},
   "outputs": [
    {
     "name": "stdout",
     "output_type": "stream",
     "text": [
      "Apple \n",
      "Ball \n",
      "Cat \n",
      "\n"
     ]
    }
   ],
   "source": [
    "f = open('T10file1.txt','w')\n",
    "f.write(\"Apple \\n\")\n",
    "f.write(\"Ball \\n\")\n",
    "f.write(\"Cat \\n\")\n",
    "f.close()\n",
    "\n",
    "f = open('T10file1.txt')\n",
    "print(f.read())\n",
    "f.close()"
   ]
  },
  {
   "cell_type": "code",
   "execution_count": 4,
   "metadata": {},
   "outputs": [
    {
     "name": "stdout",
     "output_type": "stream",
     "text": [
      "Apple \n",
      "Ball \n",
      "Cat \n",
      "Dog \n",
      "Elephant \n",
      "\n"
     ]
    }
   ],
   "source": [
    "#creating function to append the data \n",
    "def append():\n",
    "    f=open('T10file1.txt', 'a+')\n",
    "    f.write(\"Dog \\n\")\n",
    "    f.write(\"Elephant \\n\") \n",
    "    f.close()\n",
    "    \n",
    "append()\n",
    "\n",
    "f = open('T10file1.txt')\n",
    "print(f.read())\n",
    "f.close()"
   ]
  },
  {
   "cell_type": "markdown",
   "metadata": {},
   "source": [
    "# Problem-3\n",
    "- create a program for updating a word in the file"
   ]
  },
  {
   "cell_type": "code",
   "execution_count": 5,
   "metadata": {},
   "outputs": [
    {
     "name": "stdout",
     "output_type": "stream",
     "text": [
      "Country capital \n",
      "India - Hyd \n",
      "\n"
     ]
    }
   ],
   "source": [
    "import re\n",
    "f = open('T10file2.txt','w')\n",
    "f.write(\"Country capital \\n\")\n",
    "f.write(\"India - Hyd \\n\")\n",
    "f.close()\n",
    "\n",
    "\n",
    "#reading the file\n",
    "f = open('T10file2.txt')\n",
    "print(f.read())"
   ]
  },
  {
   "cell_type": "code",
   "execution_count": 6,
   "metadata": {},
   "outputs": [
    {
     "name": "stdout",
     "output_type": "stream",
     "text": [
      "Country capital \n",
      "India - Delhi \n",
      "\n"
     ]
    }
   ],
   "source": [
    "with open('T10file2.txt','r+') as f:\n",
    "    text = f.read()\n",
    "    text = re.sub('Hyd', 'Delhi', text)\n",
    "    f.seek(0)\n",
    "    f.write(text)\n",
    "    f.truncate()\n",
    "    \n",
    "#reading the file\n",
    "f = open('T10file2.txt')\n",
    "print(f.read())"
   ]
  },
  {
   "cell_type": "code",
   "execution_count": null,
   "metadata": {},
   "outputs": [],
   "source": []
  }
 ],
 "metadata": {
  "kernelspec": {
   "display_name": "Python 3",
   "language": "python",
   "name": "python3"
  },
  "language_info": {
   "codemirror_mode": {
    "name": "ipython",
    "version": 3
   },
   "file_extension": ".py",
   "mimetype": "text/x-python",
   "name": "python",
   "nbconvert_exporter": "python",
   "pygments_lexer": "ipython3",
   "version": "3.7.3"
  }
 },
 "nbformat": 4,
 "nbformat_minor": 5
}
