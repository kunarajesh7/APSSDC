{
 "cells": [
  {
   "cell_type": "markdown",
   "metadata": {},
   "source": [
    "# Problem-1\n",
    "- Write a Python program that takes two lists and returns True if they have at least one common number\n"
   ]
  },
  {
   "cell_type": "code",
   "execution_count": 1,
   "metadata": {},
   "outputs": [
    {
     "name": "stdout",
     "output_type": "stream",
     "text": [
      "Input List-1 elements here! : 2 4 6 8 5\n",
      "Input List-2 elements here! : 3 6 4 9 0\n",
      "True\n"
     ]
    }
   ],
   "source": [
    "list1 = []\n",
    "list1 = input(\"Input List-1 elements here! : \").split()\n",
    "list2 = []\n",
    "list2 = input(\"Input List-2 elements here! : \").split()\n",
    "result = False\n",
    "for i in list1:\n",
    "    if i in list2:\n",
    "        result = True\n",
    "        break\n",
    "print(result)"
   ]
  },
  {
   "cell_type": "code",
   "execution_count": 5,
   "metadata": {},
   "outputs": [
    {
     "name": "stdout",
     "output_type": "stream",
     "text": [
      "Input List-1 elements here! : 1 3 4 5 7\n",
      "Input List-2 elements here! : 2 6 8 9 0\n",
      "False\n"
     ]
    }
   ],
   "source": [
    "list1 = []\n",
    "list1 = input(\"Input List-1 elements here! : \").split()\n",
    "list2 = []\n",
    "list2 = input(\"Input List-2 elements here! : \").split()\n",
    "result = False\n",
    "for i in list1:\n",
    "    if i in list2:\n",
    "        result = True\n",
    "        break\n",
    "print(result)"
   ]
  },
  {
   "cell_type": "code",
   "execution_count": null,
   "metadata": {},
   "outputs": [],
   "source": []
  }
 ],
 "metadata": {
  "kernelspec": {
   "display_name": "Python 3",
   "language": "python",
   "name": "python3"
  },
  "language_info": {
   "codemirror_mode": {
    "name": "ipython",
    "version": 3
   },
   "file_extension": ".py",
   "mimetype": "text/x-python",
   "name": "python",
   "nbconvert_exporter": "python",
   "pygments_lexer": "ipython3",
   "version": "3.7.3"
  }
 },
 "nbformat": 4,
 "nbformat_minor": 5
}
