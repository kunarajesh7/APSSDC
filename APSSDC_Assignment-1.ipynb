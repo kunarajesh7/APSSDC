{
 "cells": [
  {
   "cell_type": "markdown",
   "metadata": {},
   "source": [
    "Problem-1:\n",
    "Write a program to check whether the user is eligible for vote or not"
   ]
  },
  {
   "cell_type": "code",
   "execution_count": 1,
   "metadata": {},
   "outputs": [
    {
     "name": "stdout",
     "output_type": "stream",
     "text": [
      "Input your age:22\n",
      "You are eligible to vote!\n"
     ]
    }
   ],
   "source": [
    "var = int(input(\"Input your age:\"))\n",
    "if var >= 18:\n",
    "    print(\"You are eligible to vote!\")\n",
    "else:\n",
    "    print(\"You are not eligible to vote!\")"
   ]
  },
  {
   "cell_type": "markdown",
   "metadata": {},
   "source": [
    "Problem-2:\n",
    "Check the given number is positive or negative"
   ]
  },
  {
   "cell_type": "code",
   "execution_count": 2,
   "metadata": {},
   "outputs": [
    {
     "name": "stdout",
     "output_type": "stream",
     "text": [
      "Input a number of your choice:7\n",
      "The given number is positive\n"
     ]
    }
   ],
   "source": [
    "var  = int(input(\"Input a number of your choice:\"))\n",
    "if var > 0:\n",
    "    print(\"The given number is positive\")\n",
    "elif var < 0:\n",
    "    print(\"The given number is negative\")\n",
    "else:\n",
    "    print(\"The given number is neither positive nor negative\")"
   ]
  },
  {
   "cell_type": "markdown",
   "metadata": {},
   "source": [
    "Problem-3:\n",
    "Check the given number is even or odd, if its even check which is divisible by 4 or not"
   ]
  },
  {
   "cell_type": "code",
   "execution_count": 3,
   "metadata": {},
   "outputs": [
    {
     "name": "stdout",
     "output_type": "stream",
     "text": [
      "Input a number of your choice:56\n",
      "The given number is even\n",
      "The given number is divisible by 4\n"
     ]
    }
   ],
   "source": [
    "var = int(input(\"Input a number of your choice:\"))\n",
    "if var % 2 == 0:\n",
    "    print(\"The given number is even\")\n",
    "    if var % 4 == 0:\n",
    "        print(\"The given number is divisible by 4\")\n",
    "    else:\n",
    "        print(\"The given number is not divisible by 4\")\n",
    "else:\n",
    "    print(\"The given number is odd\")"
   ]
  },
  {
   "cell_type": "markdown",
   "metadata": {},
   "source": [
    "Problem-4:\n",
    "Write a program to print student grade based on the percentage like Distinction, pass or fail"
   ]
  },
  {
   "cell_type": "code",
   "execution_count": 4,
   "metadata": {},
   "outputs": [
    {
     "name": "stdout",
     "output_type": "stream",
     "text": [
      "Input the total marks scored:40.6\n",
      "Just passed\n"
     ]
    }
   ],
   "source": [
    "var = float(input(\"Input the total marks scored:\"))\n",
    "if var >= 91:\n",
    "    print(\"You have passed in distinction with O-Grade\")\n",
    "elif var >= 81:\n",
    "    print(\"You have passed in distinction with A-Grade\")\n",
    "elif var >= 71:\n",
    "    print(\"You have passed in distinction with B-Grade\")\n",
    "elif var >= 61:\n",
    "    print(\"You have passed in distinction with C-Grade\")\n",
    "elif var >= 35:\n",
    "    print(\"Just passed\")\n",
    "else:\n",
    "    print(\"Failed!\")"
   ]
  },
  {
   "cell_type": "markdown",
   "metadata": {},
   "source": [
    "Problem-5:\n",
    "Check the given year is leap year or not"
   ]
  },
  {
   "cell_type": "code",
   "execution_count": 6,
   "metadata": {},
   "outputs": [
    {
     "name": "stdout",
     "output_type": "stream",
     "text": [
      "Input the year:2004\n",
      "2004 is a leap year\n"
     ]
    }
   ],
   "source": [
    "var = int(input(\"Input the year:\"))\n",
    "if var % 4 == 0 and var % 100 != 0:\n",
    "    print(var, \"is a leap year\")\n",
    "elif var % 100 == 0:\n",
    "    print(var, \"is not  a leap year\")\n",
    "elif var % 400 == 0:\n",
    "    print(var, \"is a leap year\")\n",
    "else:\n",
    "    print(var, \"is not a leap year\")"
   ]
  },
  {
   "cell_type": "code",
   "execution_count": null,
   "metadata": {},
   "outputs": [],
   "source": []
  }
 ],
 "metadata": {
  "kernelspec": {
   "display_name": "Python 3",
   "language": "python",
   "name": "python3"
  },
  "language_info": {
   "codemirror_mode": {
    "name": "ipython",
    "version": 3
   },
   "file_extension": ".py",
   "mimetype": "text/x-python",
   "name": "python",
   "nbconvert_exporter": "python",
   "pygments_lexer": "ipython3",
   "version": "3.7.3"
  }
 },
 "nbformat": 4,
 "nbformat_minor": 5
}
