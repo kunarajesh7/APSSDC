{
 "cells": [
  {
   "cell_type": "markdown",
   "metadata": {},
   "source": [
    "# Problem-1\n",
    "- Write a Python script to print a dictionary where the keys are numbers between 1 and 15 (both included) and the values are square of keys"
   ]
  },
  {
   "cell_type": "code",
   "execution_count": 1,
   "metadata": {},
   "outputs": [
    {
     "name": "stdout",
     "output_type": "stream",
     "text": [
      "Input number Here : 15\n",
      "{1: 1, 2: 4, 3: 9, 4: 16, 5: 25, 6: 36, 7: 49, 8: 64, 9: 81, 10: 100, 11: 121, 12: 144, 13: 169, 14: 196, 15: 225}\n"
     ]
    }
   ],
   "source": [
    "num = int(input(\"Input number Here : \"))\n",
    "num_dict = dict()\n",
    "\n",
    "for i in range(1,num+1):\n",
    "    num_dict[i] = i * i\n",
    "print(num_dict)"
   ]
  },
  {
   "cell_type": "markdown",
   "metadata": {},
   "source": [
    "# Problem-2\n",
    "- Write a Python program to map two lists into a dictionary"
   ]
  },
  {
   "cell_type": "code",
   "execution_count": 2,
   "metadata": {},
   "outputs": [
    {
     "name": "stdout",
     "output_type": "stream",
     "text": [
      "Input the number of elements for the Dictionary: 3\n",
      "Enter L1 1 = NAME\n",
      "Enter L1 2 = ROLL NUMBER\n",
      "Enter L1 3 = SECTION\n",
      "Enter L2 1 = RAJESH\n",
      "Enter L2 2 = AP19110010135\n",
      "Enter L2 3 = CSE D\n",
      "Elements in Dictionary : {'NAME': 'RAJESH', 'ROLL NUMBER': 'AP19110010135', 'SECTION': 'CSE D'}\n"
     ]
    }
   ],
   "source": [
    "L1  = []\n",
    "L2 = []\n",
    "num = int(input(\"Input the number of elements for the Dictionary: \"))\n",
    "for i in range(0, num):\n",
    "    n1 = input(\"Enter L1 \" + str(i + 1) + \" = \")\n",
    "    L1.append(n1)\n",
    "for i in range(0, num):\n",
    "    n1 = input(\"Enter L2 \" + str(i + 1) + \" = \")\n",
    "    L2.append(n1)\n",
    "    \n",
    "num_dict = dict(zip(L1, L2))\n",
    "print(\"Elements in Dictionary :\",  num_dict)"
   ]
  },
  {
   "cell_type": "markdown",
   "metadata": {},
   "source": [
    "# Problem-3\n",
    "- Write a Python program to sort a list alphabetically in a dictionary\n",
    "     - input : {'n1': [2, 3, 1], 'n2': [5, 1, 2], 'n3': [3, 2, 4]}\n",
    "     - output : {'n1': [1, 2, 3], 'n2': [1, 2, 5], 'n3': [2, 3, 4]}"
   ]
  },
  {
   "cell_type": "code",
   "execution_count": 4,
   "metadata": {},
   "outputs": [
    {
     "name": "stdout",
     "output_type": "stream",
     "text": [
      "{'n1': [1, 2, 3], 'n2': [1, 2, 5], 'n3': [2, 3, 4]}\n"
     ]
    }
   ],
   "source": [
    "dict = {'n1': [2, 3, 1], 'n2': [5, 1, 2], 'n3': [3, 2, 4]}\n",
    "Sdict = {i: sorted(j) for i, j in dict.items()}\n",
    "print(Sdict)"
   ]
  },
  {
   "cell_type": "code",
   "execution_count": null,
   "metadata": {},
   "outputs": [],
   "source": []
  }
 ],
 "metadata": {
  "kernelspec": {
   "display_name": "Python 3",
   "language": "python",
   "name": "python3"
  },
  "language_info": {
   "codemirror_mode": {
    "name": "ipython",
    "version": 3
   },
   "file_extension": ".py",
   "mimetype": "text/x-python",
   "name": "python",
   "nbconvert_exporter": "python",
   "pygments_lexer": "ipython3",
   "version": "3.7.3"
  }
 },
 "nbformat": 4,
 "nbformat_minor": 5
}
