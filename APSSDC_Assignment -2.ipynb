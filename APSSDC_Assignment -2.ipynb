{
 "cells": [
  {
   "cell_type": "markdown",
   "metadata": {},
   "source": [
    "# Problem-1:\n",
    "Take last 3 values of roll number(Example: AP19110010016)\n",
    "- If value is startswith \"01\" --> 'Cse Dept'\n",
    "- elif value is startwith \"11\" --> 'It Dept'\n",
    "- elif values is startswith \"21\" --> 'ECE dept'\n",
    "- else not an SRM student"
   ]
  },
  {
   "cell_type": "code",
   "execution_count": 9,
   "metadata": {},
   "outputs": [
    {
     "name": "stdout",
     "output_type": "stream",
     "text": [
      "Enter the roll no:AP19110010135\n",
      "The student is from CSE Dept\n"
     ]
    }
   ],
   "source": [
    "roll_number = str(input(\"Enter the roll no:\"))\n",
    "roll_number[-3:]\n",
    "if roll_number[-3:].startswith(\"13\"):\n",
    "    print(\"The student is from CSE Dept\")\n",
    "elif roll_number[-3:].startswith(\"01\"):\n",
    "    print(\"The student is from IT Dept\")\n",
    "elif roll_number[-3:].startswith(\"11\"):\n",
    "    print(\"The student is from ECE Dept\")\n",
    "else:\n",
    "    print(\"STUDENT NOT FOUND ! \")"
   ]
  },
  {
   "cell_type": "markdown",
   "metadata": {},
   "source": [
    "# Problem-2:\n",
    "Write a program to print all the leap years from 1800 to 2020"
   ]
  },
  {
   "cell_type": "code",
   "execution_count": 11,
   "metadata": {},
   "outputs": [
    {
     "name": "stdout",
     "output_type": "stream",
     "text": [
      "1804\t1808\t1812\t1816\t1820\t1824\t1828\t1832\t1836\t1840\t1844\t1848\t1852\t1856\t1860\t1864\t1868\t1872\t1876\t1880\t1884\t1888\t1892\t1896\t1904\t1908\t1912\t1916\t1920\t1924\t1928\t1932\t1936\t1940\t1944\t1948\t1952\t1956\t1960\t1964\t1968\t1972\t1976\t1980\t1984\t1988\t1992\t1996\t2000\t2004\t2008\t2012\t2016\t2020\t"
     ]
    }
   ],
   "source": [
    "for var in range(1800, 2021):              \n",
    "    if var % 4 == 0 and var % 100 != 0:\n",
    "        print(var, end = \"\\t\")\n",
    "    elif var % 400 == 0: \n",
    "        print(var, end = \"\\t\")\n"
   ]
  }
 ],
 "metadata": {
  "kernelspec": {
   "display_name": "Python 3",
   "language": "python",
   "name": "python3"
  },
  "language_info": {
   "codemirror_mode": {
    "name": "ipython",
    "version": 3
   },
   "file_extension": ".py",
   "mimetype": "text/x-python",
   "name": "python",
   "nbconvert_exporter": "python",
   "pygments_lexer": "ipython3",
   "version": "3.7.3"
  }
 },
 "nbformat": 4,
 "nbformat_minor": 5
}
