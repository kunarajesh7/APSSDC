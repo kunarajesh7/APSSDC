{
 "cells": [
  {
   "cell_type": "markdown",
   "metadata": {},
   "source": [
    "\n",
    "# Problem - 1:\n",
    "- Take input from the user.\n",
    "- Check the length of the string even or odd\n",
    "- If the string length is odd access one middle character\n",
    "- If the string length is even access two middle characters"
   ]
  },
  {
   "cell_type": "code",
   "execution_count": 1,
   "metadata": {},
   "outputs": [
    {
     "name": "stdout",
     "output_type": "stream",
     "text": [
      "Input string here : KUNA RAJESH\n",
      "11\n",
      "Odd String\n",
      "Middle letter from the string is: R\n"
     ]
    }
   ],
   "source": [
    "X = str(input(\"Input string here : \"))\n",
    "l = len(X) // 2\n",
    "print(len(X))\n",
    "if len(X) % 2 == 0:\n",
    "    print(\"Even String\")\n",
    "    print(\"Middle letters from the string are:\",X[len(X)//2-1],X[len(X)//2])\n",
    "else:\n",
    "    print(\"Odd String\")\n",
    "    if len(X) % 2 != 0:\n",
    "        print(\"Middle letter from the string is:\",X[len(X)//2])"
   ]
  },
  {
   "cell_type": "code",
   "execution_count": null,
   "metadata": {},
   "outputs": [],
   "source": []
  }
 ],
 "metadata": {
  "kernelspec": {
   "display_name": "Python 3",
   "language": "python",
   "name": "python3"
  },
  "language_info": {
   "codemirror_mode": {
    "name": "ipython",
    "version": 3
   },
   "file_extension": ".py",
   "mimetype": "text/x-python",
   "name": "python",
   "nbconvert_exporter": "python",
   "pygments_lexer": "ipython3",
   "version": "3.7.3"
  }
 },
 "nbformat": 4,
 "nbformat_minor": 5
}
